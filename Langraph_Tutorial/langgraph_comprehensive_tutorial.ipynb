{
 "cells": [
  {
   "cell_type": "code",
   "execution_count": 1,
   "id": "7852ee05",
   "metadata": {},
   "outputs": [],
   "source": [
    "import os\n",
    "import getpass\n",
    "from typing import Annotated, Dict, List, Any\n",
    "from typing_extensions import TypedDict\n",
    "\n",
    "def setup_environment():\n",
    "    \"\"\"Setup your API KEYs\"\"\"\n",
    "    if not os.environ.get(\"OPENAI_API_KEY\"):\n",
    "        openai_key=getpass.getpass(\"Enter your OPENAI API KEY\")\n",
    "        os.environ[\"OPENAI_API_KEY\"]=openai_key\n",
    "\n",
    "    if not os.environ.get(\"LANGSMITH_API_KEY\"):\n",
    "        langsmith_key=getpass.getpass(\"Enter your langsmith api key\")\n",
    "        if langsmith_key:\n",
    "            os.environ[\"LANGSMITH_API_KEY\"]=langsmith_key\n",
    "            os.environ[\"LANGCHAIN_TRACING_V2\"] = \"true\"\n",
    "            os.environ[\"LANGCHAIN_PROJECT\"] = \"Langgraph tutorial\"\n",
    "        else:\n",
    "            print(\"skipping langsmith setup\")\n",
    "\n",
    "    print(\"Environment Setup is Complete\")        "
   ]
  },
  {
   "cell_type": "code",
   "execution_count": 2,
   "id": "b2e4d91e",
   "metadata": {},
   "outputs": [
    {
     "name": "stdout",
     "output_type": "stream",
     "text": [
      "Environment Setup is Complete\n"
     ]
    }
   ],
   "source": [
    "setup_environment()"
   ]
  },
  {
   "cell_type": "code",
   "execution_count": 3,
   "id": "d7ee0b49",
   "metadata": {},
   "outputs": [],
   "source": [
    "# Now Step -1 - Defining State\n",
    "from langgraph.graph import StateGraph, START, END\n",
    "from langgraph.graph.message import add_messages              #This is a method             \n",
    "from langchain_core.messages import HumanMessage, AIMessage   # these are classes. one with camel casing name are classes\n",
    "\n",
    "class State(TypedDict):\n",
    "    # messages will store our conversation history\n",
    "    # add_messages is a special function that append new message instead of replacing them\n",
    "\n",
    "    messages: Annotated[list, add_messages]"
   ]
  },
  {
   "cell_type": "code",
   "execution_count": 4,
   "id": "01aace8f",
   "metadata": {},
   "outputs": [],
   "source": [
    "#getting the LLM\n",
    "from langchain_openai import ChatOpenAI\n",
    "\n",
    "llm = ChatOpenAI(\n",
    "    model = \"gpt-4o\",\n",
    "    temperature = 0.7\n",
    ")"
   ]
  },
  {
   "cell_type": "code",
   "execution_count": 5,
   "id": "cb9ca129",
   "metadata": {},
   "outputs": [],
   "source": [
    "#Step-3  - lets create a node (which is just a Like a function)\n",
    "def chatbot_node(state: State)->Dict[str, Any]:\n",
    "    messages = state['messages']\n",
    "    response = llm.invoke(messages)\n",
    "    return {\"messages\": [response]}"
   ]
  },
  {
   "cell_type": "code",
   "execution_count": 6,
   "id": "e7539e7d",
   "metadata": {},
   "outputs": [],
   "source": [
    "# step - 4 - Setup Edges in Graph\n",
    "\n",
    "#Now for this we will invoke the class \"StateGraph with an object\"\n",
    "graph_builder = StateGraph(State)\n",
    "\n",
    "graph_builder.add_node(\"chatbot\", chatbot_node)\n",
    "#lets add edges\n",
    "graph_builder.add_edge(START, \"chatbot\")\n",
    "graph_builder.add_edge(\"chatbot\", END)\n",
    "\n",
    "simple_chatbot = graph_builder.compile()"
   ]
  },
  {
   "cell_type": "code",
   "execution_count": 7,
   "id": "96a88761",
   "metadata": {},
   "outputs": [],
   "source": [
    "#Now tpo genrate the message for graph, we can do below\n",
    "initial_state = {\n",
    "    \"messages\": [HumanMessage(content=\"Hello, how are you\")]\n",
    "}\n",
    "result = simple_chatbot.invoke(initial_state)"
   ]
  },
  {
   "cell_type": "code",
   "execution_count": 8,
   "id": "e5bcd328",
   "metadata": {},
   "outputs": [
    {
     "name": "stdout",
     "output_type": "stream",
     "text": [
      "Human: Hello, how are you\n",
      "AI: Hello! I'm just a computer program, so I don't have feelings, but I'm here and ready to help you. How can I assist you today?\n"
     ]
    }
   ],
   "source": [
    "#now for graph, we should always put the message in the loop for iteration\n",
    "for i, message in enumerate(result['messages']):\n",
    "    if isinstance(message, HumanMessage):\n",
    "        print(f\"Human: {message.content}\")\n",
    "\n",
    "    if isinstance(message, AIMessage):\n",
    "        print(f\"AI: {message.content}\")"
   ]
  },
  {
   "cell_type": "code",
   "execution_count": 9,
   "id": "99193870",
   "metadata": {},
   "outputs": [],
   "source": [
    "#Now the above part let us just store it in a function and just re-use it\n",
    "def test_simple(user_input):\n",
    "    initial_state = {\n",
    "    \"messages\": [HumanMessage(content=\"Hello, how are you\")]\n",
    "    }\n",
    "    result = simple_chatbot.invoke(initial_state)\n",
    "\n",
    "    for i, message in enumerate(result['messages']):\n",
    "        if isinstance(message, HumanMessage):\n",
    "            print(f\"Human: {message.content}\")\n",
    "\n",
    "        if isinstance(message, AIMessage):\n",
    "            print(f\"AI: {message.content}\")"
   ]
  },
  {
   "cell_type": "code",
   "execution_count": 10,
   "id": "ca8505f9",
   "metadata": {},
   "outputs": [
    {
     "name": "stdout",
     "output_type": "stream",
     "text": [
      "Requirement already satisfied: langgraph-checkpoint-sqlite in c:\\users\\hp\\miniconda3\\envs\\mydevenvironment\\lib\\site-packages (2.0.10)\n",
      "Requirement already satisfied: aiosqlite>=0.20 in c:\\users\\hp\\miniconda3\\envs\\mydevenvironment\\lib\\site-packages (from langgraph-checkpoint-sqlite) (0.21.0)\n",
      "Requirement already satisfied: langgraph-checkpoint>=2.0.21 in c:\\users\\hp\\miniconda3\\envs\\mydevenvironment\\lib\\site-packages (from langgraph-checkpoint-sqlite) (2.1.0)\n",
      "Requirement already satisfied: sqlite-vec>=0.1.6 in c:\\users\\hp\\miniconda3\\envs\\mydevenvironment\\lib\\site-packages (from langgraph-checkpoint-sqlite) (0.1.6)\n",
      "Requirement already satisfied: typing_extensions>=4.0 in c:\\users\\hp\\miniconda3\\envs\\mydevenvironment\\lib\\site-packages (from aiosqlite>=0.20->langgraph-checkpoint-sqlite) (4.13.2)\n",
      "Requirement already satisfied: langchain-core>=0.2.38 in c:\\users\\hp\\miniconda3\\envs\\mydevenvironment\\lib\\site-packages (from langgraph-checkpoint>=2.0.21->langgraph-checkpoint-sqlite) (0.3.66)\n",
      "Requirement already satisfied: ormsgpack>=1.10.0 in c:\\users\\hp\\miniconda3\\envs\\mydevenvironment\\lib\\site-packages (from langgraph-checkpoint>=2.0.21->langgraph-checkpoint-sqlite) (1.10.0)\n",
      "Requirement already satisfied: langsmith>=0.3.45 in c:\\users\\hp\\miniconda3\\envs\\mydevenvironment\\lib\\site-packages (from langchain-core>=0.2.38->langgraph-checkpoint>=2.0.21->langgraph-checkpoint-sqlite) (0.4.1)\n",
      "Requirement already satisfied: tenacity!=8.4.0,<10.0.0,>=8.1.0 in c:\\users\\hp\\miniconda3\\envs\\mydevenvironment\\lib\\site-packages (from langchain-core>=0.2.38->langgraph-checkpoint>=2.0.21->langgraph-checkpoint-sqlite) (9.1.2)\n",
      "Requirement already satisfied: jsonpatch<2.0,>=1.33 in c:\\users\\hp\\miniconda3\\envs\\mydevenvironment\\lib\\site-packages (from langchain-core>=0.2.38->langgraph-checkpoint>=2.0.21->langgraph-checkpoint-sqlite) (1.33)\n",
      "Requirement already satisfied: PyYAML>=5.3 in c:\\users\\hp\\miniconda3\\envs\\mydevenvironment\\lib\\site-packages (from langchain-core>=0.2.38->langgraph-checkpoint>=2.0.21->langgraph-checkpoint-sqlite) (6.0.2)\n",
      "Requirement already satisfied: packaging<25,>=23.2 in c:\\users\\hp\\miniconda3\\envs\\mydevenvironment\\lib\\site-packages (from langchain-core>=0.2.38->langgraph-checkpoint>=2.0.21->langgraph-checkpoint-sqlite) (24.2)\n",
      "Requirement already satisfied: pydantic>=2.7.4 in c:\\users\\hp\\miniconda3\\envs\\mydevenvironment\\lib\\site-packages (from langchain-core>=0.2.38->langgraph-checkpoint>=2.0.21->langgraph-checkpoint-sqlite) (2.11.4)\n",
      "Requirement already satisfied: jsonpointer>=1.9 in c:\\users\\hp\\miniconda3\\envs\\mydevenvironment\\lib\\site-packages (from jsonpatch<2.0,>=1.33->langchain-core>=0.2.38->langgraph-checkpoint>=2.0.21->langgraph-checkpoint-sqlite) (3.0.0)\n",
      "Requirement already satisfied: httpx<1,>=0.23.0 in c:\\users\\hp\\miniconda3\\envs\\mydevenvironment\\lib\\site-packages (from langsmith>=0.3.45->langchain-core>=0.2.38->langgraph-checkpoint>=2.0.21->langgraph-checkpoint-sqlite) (0.28.1)\n",
      "Requirement already satisfied: orjson<4.0.0,>=3.9.14 in c:\\users\\hp\\miniconda3\\envs\\mydevenvironment\\lib\\site-packages (from langsmith>=0.3.45->langchain-core>=0.2.38->langgraph-checkpoint>=2.0.21->langgraph-checkpoint-sqlite) (3.10.18)\n",
      "Requirement already satisfied: requests<3,>=2 in c:\\users\\hp\\miniconda3\\envs\\mydevenvironment\\lib\\site-packages (from langsmith>=0.3.45->langchain-core>=0.2.38->langgraph-checkpoint>=2.0.21->langgraph-checkpoint-sqlite) (2.32.3)\n",
      "Requirement already satisfied: requests-toolbelt<2.0.0,>=1.0.0 in c:\\users\\hp\\miniconda3\\envs\\mydevenvironment\\lib\\site-packages (from langsmith>=0.3.45->langchain-core>=0.2.38->langgraph-checkpoint>=2.0.21->langgraph-checkpoint-sqlite) (1.0.0)\n",
      "Requirement already satisfied: zstandard<0.24.0,>=0.23.0 in c:\\users\\hp\\miniconda3\\envs\\mydevenvironment\\lib\\site-packages (from langsmith>=0.3.45->langchain-core>=0.2.38->langgraph-checkpoint>=2.0.21->langgraph-checkpoint-sqlite) (0.23.0)\n",
      "Requirement already satisfied: anyio in c:\\users\\hp\\miniconda3\\envs\\mydevenvironment\\lib\\site-packages (from httpx<1,>=0.23.0->langsmith>=0.3.45->langchain-core>=0.2.38->langgraph-checkpoint>=2.0.21->langgraph-checkpoint-sqlite) (4.9.0)\n",
      "Requirement already satisfied: certifi in c:\\users\\hp\\miniconda3\\envs\\mydevenvironment\\lib\\site-packages (from httpx<1,>=0.23.0->langsmith>=0.3.45->langchain-core>=0.2.38->langgraph-checkpoint>=2.0.21->langgraph-checkpoint-sqlite) (2025.4.26)\n",
      "Requirement already satisfied: httpcore==1.* in c:\\users\\hp\\miniconda3\\envs\\mydevenvironment\\lib\\site-packages (from httpx<1,>=0.23.0->langsmith>=0.3.45->langchain-core>=0.2.38->langgraph-checkpoint>=2.0.21->langgraph-checkpoint-sqlite) (1.0.9)\n",
      "Requirement already satisfied: idna in c:\\users\\hp\\miniconda3\\envs\\mydevenvironment\\lib\\site-packages (from httpx<1,>=0.23.0->langsmith>=0.3.45->langchain-core>=0.2.38->langgraph-checkpoint>=2.0.21->langgraph-checkpoint-sqlite) (3.10)\n",
      "Requirement already satisfied: h11>=0.16 in c:\\users\\hp\\miniconda3\\envs\\mydevenvironment\\lib\\site-packages (from httpcore==1.*->httpx<1,>=0.23.0->langsmith>=0.3.45->langchain-core>=0.2.38->langgraph-checkpoint>=2.0.21->langgraph-checkpoint-sqlite) (0.16.0)\n",
      "Requirement already satisfied: annotated-types>=0.6.0 in c:\\users\\hp\\miniconda3\\envs\\mydevenvironment\\lib\\site-packages (from pydantic>=2.7.4->langchain-core>=0.2.38->langgraph-checkpoint>=2.0.21->langgraph-checkpoint-sqlite) (0.7.0)\n",
      "Requirement already satisfied: pydantic-core==2.33.2 in c:\\users\\hp\\miniconda3\\envs\\mydevenvironment\\lib\\site-packages (from pydantic>=2.7.4->langchain-core>=0.2.38->langgraph-checkpoint>=2.0.21->langgraph-checkpoint-sqlite) (2.33.2)\n",
      "Requirement already satisfied: typing-inspection>=0.4.0 in c:\\users\\hp\\miniconda3\\envs\\mydevenvironment\\lib\\site-packages (from pydantic>=2.7.4->langchain-core>=0.2.38->langgraph-checkpoint>=2.0.21->langgraph-checkpoint-sqlite) (0.4.0)\n",
      "Requirement already satisfied: charset-normalizer<4,>=2 in c:\\users\\hp\\miniconda3\\envs\\mydevenvironment\\lib\\site-packages (from requests<3,>=2->langsmith>=0.3.45->langchain-core>=0.2.38->langgraph-checkpoint>=2.0.21->langgraph-checkpoint-sqlite) (3.4.2)\n",
      "Requirement already satisfied: urllib3<3,>=1.21.1 in c:\\users\\hp\\miniconda3\\envs\\mydevenvironment\\lib\\site-packages (from requests<3,>=2->langsmith>=0.3.45->langchain-core>=0.2.38->langgraph-checkpoint>=2.0.21->langgraph-checkpoint-sqlite) (2.4.0)\n",
      "Requirement already satisfied: sniffio>=1.1 in c:\\users\\hp\\miniconda3\\envs\\mydevenvironment\\lib\\site-packages (from anyio->httpx<1,>=0.23.0->langsmith>=0.3.45->langchain-core>=0.2.38->langgraph-checkpoint>=2.0.21->langgraph-checkpoint-sqlite) (1.3.1)\n"
     ]
    }
   ],
   "source": [
    "#Now lets us again add memory to the chatbot\n",
    "#lets use sql_lite database\n",
    "!pip install langgraph-checkpoint-sqlite\n",
    "\n"
   ]
  },
  {
   "cell_type": "code",
   "execution_count": 13,
   "id": "de6ea794",
   "metadata": {},
   "outputs": [],
   "source": [
    "from langgraph.checkpoint.memory import MemorySaver\n",
    "checkpointer=MemorySaver()"
   ]
  },
  {
   "cell_type": "code",
   "execution_count": 14,
   "id": "3619854f",
   "metadata": {},
   "outputs": [],
   "source": [
    "graph_builder_with_memory = StateGraph(State)\n",
    "\n",
    "graph_builder_with_memory.add_node(\"chatbot\", chatbot_node)\n",
    "graph_builder_with_memory.add_edge(START, \"chatbot\")\n",
    "graph_builder_with_memory.add_edge(\"chatbot\", END)\n",
    "\n",
    "chatbot_with_memory = graph_builder_with_memory.compile(checkpointer=checkpointer)"
   ]
  },
  {
   "cell_type": "code",
   "execution_count": 15,
   "id": "64dc499f",
   "metadata": {},
   "outputs": [],
   "source": [
    "def test_simple(user_input):\n",
    "    config={\"configurable\":{\"thread_id\":\"conversation_1\"}}   #Threads per conversation\n",
    "    initial_state={\n",
    "\n",
    "        \"messages\":[HumanMessage(content=user_input)]\n",
    "    }\n",
    "    result=chatbot_with_memory.invoke(initial_state,config)\n",
    "    for i, message in enumerate(result['messages']):\n",
    "        if isinstance(message,HumanMessage):\n",
    "            print(f\"Human:{message.content}\")\n",
    "\n",
    "        if isinstance(message,AIMessage):\n",
    "            print(f\"AI:{message.content}\")\n",
    "    return result    "
   ]
  },
  {
   "cell_type": "code",
   "execution_count": 17,
   "id": "ada217a2",
   "metadata": {},
   "outputs": [
    {
     "name": "stdout",
     "output_type": "stream",
     "text": [
      "Human:Who is Tom Cruise\n",
      "AI:Tom Cruise is an American actor and producer, widely regarded as one of the biggest movie stars in the world. Born on July 3, 1962, in Syracuse, New York, his real name is Thomas Cruise Mapother IV. Cruise gained fame in the 1980s with films like \"Risky Business\" (1983) and \"Top Gun\" (1986). Over the years, he has been praised for his performances in a variety of genres, including drama, action, and science fiction.\n",
      "\n",
      "Some of his most notable films include \"Rain Man\" (1988), \"A Few Good Men\" (1992), \"Jerry Maguire\" (1996), and the \"Mission: Impossible\" series, where he plays the role of Ethan Hunt. Known for performing many of his own stunts, Cruise has developed a reputation for his dedication to his craft.\n",
      "\n",
      "In addition to his acting career, Cruise has been a high-profile member of the Church of Scientology, which has often put him in the media spotlight. He has been nominated for several Academy Awards and has won three Golden Globe Awards.\n"
     ]
    },
    {
     "data": {
      "text/plain": [
       "{'messages': [HumanMessage(content='Who is Tom Cruise', additional_kwargs={}, response_metadata={}, id='b4cbbcf9-e2b2-4a68-b2bd-67d5f075f82f'),\n",
       "  AIMessage(content='Tom Cruise is an American actor and producer, widely regarded as one of the biggest movie stars in the world. Born on July 3, 1962, in Syracuse, New York, his real name is Thomas Cruise Mapother IV. Cruise gained fame in the 1980s with films like \"Risky Business\" (1983) and \"Top Gun\" (1986). Over the years, he has been praised for his performances in a variety of genres, including drama, action, and science fiction.\\n\\nSome of his most notable films include \"Rain Man\" (1988), \"A Few Good Men\" (1992), \"Jerry Maguire\" (1996), and the \"Mission: Impossible\" series, where he plays the role of Ethan Hunt. Known for performing many of his own stunts, Cruise has developed a reputation for his dedication to his craft.\\n\\nIn addition to his acting career, Cruise has been a high-profile member of the Church of Scientology, which has often put him in the media spotlight. He has been nominated for several Academy Awards and has won three Golden Globe Awards.', additional_kwargs={'refusal': None}, response_metadata={'token_usage': {'completion_tokens': 225, 'prompt_tokens': 11, 'total_tokens': 236, 'completion_tokens_details': {'accepted_prediction_tokens': 0, 'audio_tokens': 0, 'reasoning_tokens': 0, 'rejected_prediction_tokens': 0}, 'prompt_tokens_details': {'audio_tokens': 0, 'cached_tokens': 0}}, 'model_name': 'gpt-4o-2024-08-06', 'system_fingerprint': 'fp_07871e2ad8', 'id': 'chatcmpl-BnNinJgZEADzfxqQMElltb5TZ3Nnd', 'service_tier': 'default', 'finish_reason': 'stop', 'logprobs': None}, id='run--be837e03-f9fa-4853-974f-47f1b9514b88-0', usage_metadata={'input_tokens': 11, 'output_tokens': 225, 'total_tokens': 236, 'input_token_details': {'audio': 0, 'cache_read': 0}, 'output_token_details': {'audio': 0, 'reasoning': 0}})]}"
      ]
     },
     "execution_count": 17,
     "metadata": {},
     "output_type": "execute_result"
    }
   ],
   "source": [
    "user_prompt=input(\"Enter your prompt:\")\n",
    "test_simple(user_prompt)"
   ]
  },
  {
   "cell_type": "code",
   "execution_count": null,
   "id": "64ea616c",
   "metadata": {},
   "outputs": [],
   "source": []
  }
 ],
 "metadata": {
  "kernelspec": {
   "display_name": "MyDevEnvironment",
   "language": "python",
   "name": "python3"
  },
  "language_info": {
   "codemirror_mode": {
    "name": "ipython",
    "version": 3
   },
   "file_extension": ".py",
   "mimetype": "text/x-python",
   "name": "python",
   "nbconvert_exporter": "python",
   "pygments_lexer": "ipython3",
   "version": "3.11.11"
  }
 },
 "nbformat": 4,
 "nbformat_minor": 5
}
