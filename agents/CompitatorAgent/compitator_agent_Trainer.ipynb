{
 "cells": [
  {
   "cell_type": "markdown",
   "id": "52465e00",
   "metadata": {},
   "source": [
    "# AI Competitor Intelligence Agent Tutorial\n",
    "This notebook demonstrates how to build an AI-powered competitor analysis system.\n",
    "\n",
    "## What we'll learn:\n",
    "1. Setting up API connections (Exa, Firecrawl, OpenAI)\n",
    "2. Finding competitor URLs automatically\n",
    "3. Extracting competitor data from websites\n",
    "4. Generating structured comparison reports\n",
    "5. Creating actionable business insights"
   ]
  },
  {
   "cell_type": "code",
   "execution_count": null,
   "id": "43cfe73c",
   "metadata": {},
   "outputs": [],
   "source": []
  },
  {
   "cell_type": "code",
   "execution_count": 2,
   "id": "831a242b",
   "metadata": {},
   "outputs": [
    {
     "name": "stdout",
     "output_type": "stream",
     "text": [
      "✅ All libraries imported successfully!\n"
     ]
    }
   ],
   "source": [
    "# Import required libraries\n",
    "from exa_py import Exa\n",
    "from phi.agent import Agent\n",
    "from phi.tools.firecrawl import FirecrawlTools\n",
    "from phi.model.openai import OpenAIChat\n",
    "from phi.tools.duckduckgo import DuckDuckGo\n",
    "import pandas as pd\n",
    "\n",
    "print(\"✅ All libraries imported successfully!\")"
   ]
  },
  {
   "cell_type": "code",
   "execution_count": null,
   "id": "ec2cb1ce",
   "metadata": {},
   "outputs": [
    {
     "name": "stdout",
     "output_type": "stream",
     "text": [
      "🔑 API keys configured\n"
     ]
    }
   ],
   "source": [
    "# Set up API keys (replace with your actual keys)\n",
    "OPENAI_API_KEY = \"\"\n",
    "FIRECRAWL_API_KEY = \"\" \n",
    "EXA_API_KEY = \"\"\n",
    "\n",
    "# Initialize Exa client\n",
    "exa = Exa(api_key=EXA_API_KEY)\n",
    "print(\"🔑 API keys configured\")"
   ]
  },
  {
   "cell_type": "code",
   "execution_count": 5,
   "id": "7232ebe7",
   "metadata": {},
   "outputs": [],
   "source": [
    "firecrawl_tools = FirecrawlTools(\n",
    "    api_key= FIRECRAWL_API_KEY,\n",
    "    scrape= False,\n",
    "    crawl=True,\n",
    "    limit=5\n",
    ")\n",
    "\n",
    "firecrawl_agent = Agent(\n",
    "    model=OpenAIChat(id=\"gpt-4o-mini\", api_key=OPENAI_API_KEY),\n",
    "    tools= [firecrawl_tools, DuckDuckGo()],\n",
    "    show_tool_calls=True,\n",
    "    markdown=True\n",
    ")\n",
    "\n"
   ]
  },
  {
   "cell_type": "code",
   "execution_count": 6,
   "id": "1dc7d8c8",
   "metadata": {},
   "outputs": [
    {
     "name": "stdout",
     "output_type": "stream",
     "text": [
      "AI Agent Initilized successfully\n"
     ]
    }
   ],
   "source": [
    "comparision_agent = Agent(\n",
    "    model=OpenAIChat(id=\"gpt-4o-mini\", api_key=OPENAI_API_KEY),\n",
    "    show_tool_calls=True,\n",
    "    markdown=True\n",
    ")\n",
    "\n",
    "print(\"AI Agent Initilized successfully\")"
   ]
  },
  {
   "cell_type": "code",
   "execution_count": 9,
   "id": "420cb196",
   "metadata": {},
   "outputs": [],
   "source": [
    "def get_competitor_urls(url=None, description=None):\n",
    "    \"\"\"\n",
    "    Find competitor URLs using Exa's search capabilities\n",
    "    \n",
    "    Args:\n",
    "        url: Company website URL\n",
    "        description: Company description text\n",
    "    \n",
    "    Returns:\n",
    "        List of competitor URLs\n",
    "    \"\"\"\n",
    "    if url:\n",
    "        # Find similar companies based on URL\n",
    "        result = exa.find_similar(\n",
    "            url=url,\n",
    "            num_results=10,\n",
    "            exclude_source_domain=True,\n",
    "            category=\"company\"\n",
    "        )\n",
    "    elif description:\n",
    "        # Search for companies based on description\n",
    "        result = exa.search(\n",
    "            description,\n",
    "            type=\"neural\",\n",
    "            category=\"company\",\n",
    "            use_autoprompt=True,\n",
    "            num_results=10\n",
    "        )\n",
    "    else:\n",
    "        raise ValueError(\"Please provide either a URL or a description.\")\n",
    "    \n",
    "    competitor_urls = [item.url for item in result.results]\n",
    "    return competitor_urls"
   ]
  },
  {
   "cell_type": "code",
   "execution_count": 10,
   "id": "9e6bb9c7",
   "metadata": {},
   "outputs": [
    {
     "data": {
      "text/plain": [
       "['https://moneycontrol.net/',\n",
       " 'https://www.cnbctv18.com/',\n",
       " 'https://stat2.moneycontrol.com/',\n",
       " 'https://www.etnownews.com/',\n",
       " 'https://www.capitalmarket.com/',\n",
       " 'https://investmentguruindia.com/',\n",
       " 'https://www.goodreturns.in/',\n",
       " 'https://img.moneycontrol.co.in/',\n",
       " 'https://www.zeebiz.com/hindi/']"
      ]
     },
     "execution_count": 10,
     "metadata": {},
     "output_type": "execute_result"
    }
   ],
   "source": [
    "get_competitor_urls(\"https://www.moneycontrol.com/\",\"For a financial portal born in late 1999, just when bursting of the dotcom bubble was about to nearly bring down both financial markets and the fledgling worldwide web, we couldn't have chosen a more difficult time to launch. But it was really passion and belief that saw us through. A single-minded passion to become the country's greatest resource for financial information on the Internet. And the belief, that through it, we would be able to make a difference to people's financial lives.\")"
   ]
  },
  {
   "cell_type": "code",
   "execution_count": 15,
   "id": "c5cb9e17",
   "metadata": {},
   "outputs": [
    {
     "name": "stdout",
     "output_type": "stream",
     "text": [
      "Found competitors: ['https://moneycontrol.net/', 'https://www.cnbctv18.com/', 'https://stat2.moneycontrol.com/', 'https://www.etnownews.com/', 'https://www.capitalmarket.com/', 'https://investmentguruindia.com/', 'https://www.goodreturns.in/', 'https://img.moneycontrol.co.in/', 'https://www.zeebiz.com/hindi/']\n"
     ]
    }
   ],
   "source": [
    "test_url = \"https://www.moneycontrol.com/\"\n",
    "competitors = get_competitor_urls(url=test_url)\n",
    "print(f\"Found competitors: {competitors}\")"
   ]
  },
  {
   "cell_type": "code",
   "execution_count": 16,
   "id": "b0b80731",
   "metadata": {},
   "outputs": [
    {
     "name": "stdout",
     "output_type": "stream",
     "text": [
      "Sample competitor data extracted!\n",
      "Data length: 722\n"
     ]
    }
   ],
   "source": [
    "## Adjus this function to work with the multiple URL\n",
    "\n",
    "def extract_competitor_info(competitor_url: str):\n",
    "    \"\"\"\n",
    "    Extract detailed information from competitor websites\n",
    "    \n",
    "    Args:\n",
    "        competitor_url: URL of competitor website\n",
    "        \n",
    "    Returns:\n",
    "        Dictionary with competitor data\n",
    "    \"\"\"\n",
    "    try:\n",
    "        # Use AI agent to crawl and summarize the website\n",
    "        crawl_response = firecrawl_agent.run(f\"Crawl and summarize {competitor_url}\")\n",
    "        crawled_data = crawl_response.content\n",
    "        \n",
    "        return {\n",
    "            \"competitor\": competitor_url,\n",
    "            \"data\": crawled_data\n",
    "        }\n",
    "    except Exception as e:\n",
    "        print(f\"Error extracting info for {competitor_url}: {e}\")\n",
    "        return {\n",
    "            \"competitor\": competitor_url,\n",
    "            \"error\": str(e)\n",
    "        }\n",
    "\n",
    "# Test the function \n",
    "sample_data = extract_competitor_info(competitors[0])\n",
    "print(\"Sample competitor data extracted!\")\n",
    "print(f\"Data length: {len(str(sample_data))}\")"
   ]
  },
  {
   "cell_type": "code",
   "execution_count": 17,
   "id": "1f6e7915",
   "metadata": {},
   "outputs": [
    {
     "name": "stdout",
     "output_type": "stream",
     "text": [
      "{'competitor': 'https://moneycontrol.net/', 'data': \"\\nRunning:\\n - crawl_website(url=https://moneycontrol.net/, limit=5)\\n\\nThe website **[Moneycontrol.net](https://moneycontrol.net/)** currently appears to be parked and is not offering any content related to financial news or market updates. Instead, it states that the domain is up for sale and provides contact information for purchasing it. \\n\\n### Summary\\n- **Status**: The domain is for sale.\\n- **Content**: No financial news or stock market updates available.\\n- **Contact Information**: For purchasing, call BuyDomains.com.\\n\\nIf you're looking for information about financial markets or Indian economy news, please refer to other reputable finance websites.\"}\n"
     ]
    }
   ],
   "source": [
    "print(sample_data)"
   ]
  },
  {
   "cell_type": "code",
   "execution_count": null,
   "id": "9a15b167",
   "metadata": {},
   "outputs": [],
   "source": []
  },
  {
   "cell_type": "code",
   "execution_count": null,
   "id": "5db94a8d",
   "metadata": {},
   "outputs": [],
   "source": []
  },
  {
   "cell_type": "code",
   "execution_count": null,
   "id": "d9d3b5a3",
   "metadata": {},
   "outputs": [],
   "source": []
  },
  {
   "cell_type": "code",
   "execution_count": null,
   "id": "e7f48b3b",
   "metadata": {},
   "outputs": [],
   "source": []
  },
  {
   "cell_type": "code",
   "execution_count": null,
   "id": "783d60b6",
   "metadata": {},
   "outputs": [],
   "source": []
  },
  {
   "cell_type": "code",
   "execution_count": null,
   "id": "1629213c",
   "metadata": {},
   "outputs": [],
   "source": []
  },
  {
   "cell_type": "markdown",
   "id": "0eab4167",
   "metadata": {},
   "source": []
  }
 ],
 "metadata": {
  "kernelspec": {
   "display_name": "bia_genai",
   "language": "python",
   "name": "python3"
  },
  "language_info": {
   "codemirror_mode": {
    "name": "ipython",
    "version": 3
   },
   "file_extension": ".py",
   "mimetype": "text/x-python",
   "name": "python",
   "nbconvert_exporter": "python",
   "pygments_lexer": "ipython3",
   "version": "3.11.11"
  }
 },
 "nbformat": 4,
 "nbformat_minor": 5
}
