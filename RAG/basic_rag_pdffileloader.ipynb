{
 "cells": [
  {
   "cell_type": "code",
   "execution_count": 1,
   "metadata": {},
   "outputs": [],
   "source": [
    "#taking content from PDF file\n",
    "# refer -https://python.langchain.com/docs/how_to/document_loader_pdf/\n",
    "#below is the sample pdf file\n",
    "\n",
    "file_path = (\n",
    "    \"C:\\Dev\\sample-text-only-pdf-a4-size.pdf\"\n",
    ")"
   ]
  },
  {
   "cell_type": "markdown",
   "metadata": {},
   "source": [
    "Simple and fast text extraction\n",
    "If you are looking for a simple string representation of text that is embedded in a PDF, the method below is appropriate. It will return a list of Document objects-- one per page-- containing a single string of the page's text in the Document's page_content attribute. It will not parse text in images or scanned PDF pages. Under the hood it uses the pypdf Python library.\n",
    "\n",
    "LangChain document loaders implement lazy_load and its async variant, alazy_load, which return iterators of Document objects. We will use these below."
   ]
  },
  {
   "cell_type": "code",
   "execution_count": 2,
   "metadata": {},
   "outputs": [
    {
     "name": "stderr",
     "output_type": "stream",
     "text": [
      "\n",
      "Usage:   \n",
      "  pip install [options] <requirement specifier> [package-index-options] ...\n",
      "  pip install [options] -r <requirements file> [package-index-options] ...\n",
      "  pip install [options] [-e] <vcs project url> ...\n",
      "  pip install [options] [-e] <local project path> ...\n",
      "  pip install [options] <archive url/path> ...\n",
      "\n",
      "no such option: -u\n"
     ]
    }
   ],
   "source": [
    "!pip install -qu pypdf"
   ]
  },
  {
   "cell_type": "code",
   "execution_count": 3,
   "metadata": {},
   "outputs": [],
   "source": [
    "from langchain_community.document_loaders import PyPDFLoader\n",
    "\n",
    "loader = PyPDFLoader(file_path)\n",
    "pages = []\n",
    "async for page in loader.alazy_load():\n",
    "    pages.append(page)"
   ]
  },
  {
   "cell_type": "markdown",
   "metadata": {},
   "source": [
    "API Reference:[PyPDFLoader](https://python.langchain.com/api_reference/community/document_loaders/langchain_community.document_loaders.pdf.PyPDFLoader.html)"
   ]
  },
  {
   "cell_type": "code",
   "execution_count": 4,
   "metadata": {},
   "outputs": [
    {
     "name": "stdout",
     "output_type": "stream",
     "text": [
      "{'producer': 'Canva', 'creator': 'Canva', 'creationdate': '2024-07-07T12:12:22+00:00', 'title': 'Sample Text Only PDF A4 Size | Sample-Files.com', 'moddate': '2024-07-07T12:12:21+00:00', 'keywords': 'DAGKQ_EHWeE,BAEVm-WErFA', 'author': 'Jericho', 'source': 'C:\\\\Dev\\\\sample-text-only-pdf-a4-size.pdf', 'total_pages': 5, 'page': 0, 'page_label': '1'}\n",
      "\n",
      "Innovative Tech\n",
      "Solutions, Inc.\n",
      "Product Launch Report:\n",
      "SmartHome Hub\n",
      "Prepared by:\n",
      "Alex Johnson\n",
      "sample-files.com\n",
      "+1-555-123-4567\n"
     ]
    }
   ],
   "source": [
    "print(f\"{pages[0].metadata}\\n\")\n",
    "print(pages[0].page_content)"
   ]
  },
  {
   "cell_type": "markdown",
   "metadata": {},
   "source": [
    "Vector search over PDFs\n",
    "Once we have loaded PDFs into LangChain Document objects, we can index them (e.g., a RAG application) in the usual way. Below we use OpenAI embeddings, although any LangChain embeddings model will suffice."
   ]
  },
  {
   "cell_type": "code",
   "execution_count": 5,
   "metadata": {},
   "outputs": [
    {
     "name": "stderr",
     "output_type": "stream",
     "text": [
      "\n",
      "Usage:   \n",
      "  pip install [options] <requirement specifier> [package-index-options] ...\n",
      "  pip install [options] -r <requirements file> [package-index-options] ...\n",
      "  pip install [options] [-e] <vcs project url> ...\n",
      "  pip install [options] [-e] <local project path> ...\n",
      "  pip install [options] <archive url/path> ...\n",
      "\n",
      "no such option: -u\n"
     ]
    }
   ],
   "source": [
    "#Vector search over PDFs\n",
    "#Once we have loaded PDFs into LangChain Document objects, we can index them (e.g., a RAG application) in the usual way. Below we use OpenAI embeddings, although any LangChain embeddings model will suffice.\n",
    "\n",
    "!pip install -qu langchain-openai"
   ]
  },
  {
   "cell_type": "code",
   "execution_count": 6,
   "metadata": {},
   "outputs": [],
   "source": [
    "# We can use Open AI as well, but we need to load the money and then use the API Key, just add 5 $\n",
    "import getpass\n",
    "import os\n",
    "\n",
    "if \"OPENAI_API_KEY\" not in os.environ:\n",
    "    os.environ[\"OPENAI_API_KEY\"] = getpass.getpass(\"OpenAI API Key:\")"
   ]
  },
  {
   "cell_type": "code",
   "execution_count": 7,
   "metadata": {},
   "outputs": [
    {
     "name": "stdout",
     "output_type": "stream",
     "text": [
      "Page 0: Innovative Tech\n",
      "Solutions, Inc.\n",
      "Product Launch Report:\n",
      "SmartHome Hub\n",
      "Prepared by:\n",
      "Alex Johnson\n",
      "sample-files.com\n",
      "+1-555-123-4567\n",
      "\n",
      "Page 1: Introduction \n",
      "This report outlines the launch strategy for\n",
      "our new SmartHome Hub, a central device\n",
      "designed to connect and control all smart\n",
      "home devices seamlessly. Our goal is to\n",
      "revolutionize home automation and\n",
      "establish ourselves as market leaders in this\n",
      "growing sector.\n",
      "2\n",
      "Objectives \n",
      "1 .  To i\n",
      "\n"
     ]
    }
   ],
   "source": [
    "from langchain_core.vectorstores import InMemoryVectorStore\n",
    "from langchain_openai import OpenAIEmbeddings\n",
    "\n",
    "vector_store = InMemoryVectorStore.from_documents(pages, OpenAIEmbeddings())\n",
    "docs = vector_store.similarity_search(\"What is LayoutParser?\", k=2)                        #Just searching from the PDF document \n",
    "for doc in docs:\n",
    "    print(f'Page {doc.metadata[\"page\"]}: {doc.page_content[:300]}\\n')"
   ]
  }
 ],
 "metadata": {
  "kernelspec": {
   "display_name": "MyDevEnvironment",
   "language": "python",
   "name": "python3"
  },
  "language_info": {
   "codemirror_mode": {
    "name": "ipython",
    "version": 3
   },
   "file_extension": ".py",
   "mimetype": "text/x-python",
   "name": "python",
   "nbconvert_exporter": "python",
   "pygments_lexer": "ipython3",
   "version": "3.11.11"
  }
 },
 "nbformat": 4,
 "nbformat_minor": 2
}
