{
 "cells": [
  {
   "cell_type": "markdown",
   "id": "6e308ffa",
   "metadata": {},
   "source": [
    "###Introduction to Google's ADK - Part1"
   ]
  },
  {
   "cell_type": "code",
   "execution_count": 1,
   "id": "764d963e",
   "metadata": {},
   "outputs": [
    {
     "name": "stdout",
     "output_type": "stream",
     "text": [
      "Requirement already satisfied: litellm==1.73.6 in /opt/miniconda3/envs/MyDevEnvironment/lib/python3.13/site-packages (from -r requirements.txt (line 1)) (1.73.6)\n",
      "Requirement already satisfied: google-adk==1.5.0 in /opt/miniconda3/envs/MyDevEnvironment/lib/python3.13/site-packages (from -r requirements.txt (line 2)) (1.5.0)\n",
      "Requirement already satisfied: neo4j in /opt/miniconda3/envs/MyDevEnvironment/lib/python3.13/site-packages (from -r requirements.txt (line 3)) (5.28.2)\n",
      "Requirement already satisfied: aiohttp>=3.10 in /opt/miniconda3/envs/MyDevEnvironment/lib/python3.13/site-packages (from litellm==1.73.6->-r requirements.txt (line 1)) (3.12.15)\n",
      "Requirement already satisfied: click in /opt/miniconda3/envs/MyDevEnvironment/lib/python3.13/site-packages (from litellm==1.73.6->-r requirements.txt (line 1)) (8.2.1)\n",
      "Requirement already satisfied: httpx>=0.23.0 in /opt/miniconda3/envs/MyDevEnvironment/lib/python3.13/site-packages (from litellm==1.73.6->-r requirements.txt (line 1)) (0.28.1)\n",
      "Requirement already satisfied: importlib-metadata>=6.8.0 in /opt/miniconda3/envs/MyDevEnvironment/lib/python3.13/site-packages (from litellm==1.73.6->-r requirements.txt (line 1)) (8.7.0)\n",
      "Requirement already satisfied: jinja2<4.0.0,>=3.1.2 in /opt/miniconda3/envs/MyDevEnvironment/lib/python3.13/site-packages (from litellm==1.73.6->-r requirements.txt (line 1)) (3.1.6)\n",
      "Requirement already satisfied: jsonschema<5.0.0,>=4.22.0 in /opt/miniconda3/envs/MyDevEnvironment/lib/python3.13/site-packages (from litellm==1.73.6->-r requirements.txt (line 1)) (4.25.1)\n",
      "Requirement already satisfied: openai>=1.68.2 in /opt/miniconda3/envs/MyDevEnvironment/lib/python3.13/site-packages (from litellm==1.73.6->-r requirements.txt (line 1)) (1.101.0)\n",
      "Requirement already satisfied: pydantic<3.0.0,>=2.0.0 in /opt/miniconda3/envs/MyDevEnvironment/lib/python3.13/site-packages (from litellm==1.73.6->-r requirements.txt (line 1)) (2.11.7)\n",
      "Requirement already satisfied: python-dotenv>=0.2.0 in /opt/miniconda3/envs/MyDevEnvironment/lib/python3.13/site-packages (from litellm==1.73.6->-r requirements.txt (line 1)) (1.1.1)\n",
      "Requirement already satisfied: tiktoken>=0.7.0 in /opt/miniconda3/envs/MyDevEnvironment/lib/python3.13/site-packages (from litellm==1.73.6->-r requirements.txt (line 1)) (0.11.0)\n",
      "Requirement already satisfied: tokenizers in /opt/miniconda3/envs/MyDevEnvironment/lib/python3.13/site-packages (from litellm==1.73.6->-r requirements.txt (line 1)) (0.21.4)\n",
      "Requirement already satisfied: PyYAML>=6.0.2 in /opt/miniconda3/envs/MyDevEnvironment/lib/python3.13/site-packages (from google-adk==1.5.0->-r requirements.txt (line 2)) (6.0.2)\n",
      "Requirement already satisfied: anyio>=4.9.0 in /opt/miniconda3/envs/MyDevEnvironment/lib/python3.13/site-packages (from google-adk==1.5.0->-r requirements.txt (line 2)) (4.9.0)\n",
      "Requirement already satisfied: authlib>=1.5.1 in /opt/miniconda3/envs/MyDevEnvironment/lib/python3.13/site-packages (from google-adk==1.5.0->-r requirements.txt (line 2)) (1.6.3)\n",
      "Requirement already satisfied: fastapi>=0.115.0 in /opt/miniconda3/envs/MyDevEnvironment/lib/python3.13/site-packages (from google-adk==1.5.0->-r requirements.txt (line 2)) (0.116.1)\n",
      "Requirement already satisfied: google-api-python-client>=2.157.0 in /opt/miniconda3/envs/MyDevEnvironment/lib/python3.13/site-packages (from google-adk==1.5.0->-r requirements.txt (line 2)) (2.179.0)\n",
      "Requirement already satisfied: google-cloud-aiplatform>=1.95.1 in /opt/miniconda3/envs/MyDevEnvironment/lib/python3.13/site-packages (from google-cloud-aiplatform[agent-engines]>=1.95.1->google-adk==1.5.0->-r requirements.txt (line 2)) (1.111.0)\n",
      "Requirement already satisfied: google-cloud-secret-manager>=2.22.0 in /opt/miniconda3/envs/MyDevEnvironment/lib/python3.13/site-packages (from google-adk==1.5.0->-r requirements.txt (line 2)) (2.24.0)\n",
      "Requirement already satisfied: google-cloud-speech>=2.30.0 in /opt/miniconda3/envs/MyDevEnvironment/lib/python3.13/site-packages (from google-adk==1.5.0->-r requirements.txt (line 2)) (2.33.0)\n",
      "Requirement already satisfied: google-cloud-storage<3.0.0,>=2.18.0 in /opt/miniconda3/envs/MyDevEnvironment/lib/python3.13/site-packages (from google-adk==1.5.0->-r requirements.txt (line 2)) (2.19.0)\n",
      "Requirement already satisfied: google-genai>=1.21.1 in /opt/miniconda3/envs/MyDevEnvironment/lib/python3.13/site-packages (from google-adk==1.5.0->-r requirements.txt (line 2)) (1.32.0)\n",
      "Requirement already satisfied: graphviz>=0.20.2 in /opt/miniconda3/envs/MyDevEnvironment/lib/python3.13/site-packages (from google-adk==1.5.0->-r requirements.txt (line 2)) (0.21)\n",
      "Requirement already satisfied: mcp>=1.8.0 in /opt/miniconda3/envs/MyDevEnvironment/lib/python3.13/site-packages (from google-adk==1.5.0->-r requirements.txt (line 2)) (1.13.1)\n",
      "Requirement already satisfied: opentelemetry-api>=1.31.0 in /opt/miniconda3/envs/MyDevEnvironment/lib/python3.13/site-packages (from google-adk==1.5.0->-r requirements.txt (line 2)) (1.36.0)\n",
      "Requirement already satisfied: opentelemetry-exporter-gcp-trace>=1.9.0 in /opt/miniconda3/envs/MyDevEnvironment/lib/python3.13/site-packages (from google-adk==1.5.0->-r requirements.txt (line 2)) (1.9.0)\n",
      "Requirement already satisfied: opentelemetry-sdk>=1.31.0 in /opt/miniconda3/envs/MyDevEnvironment/lib/python3.13/site-packages (from google-adk==1.5.0->-r requirements.txt (line 2)) (1.36.0)\n",
      "Requirement already satisfied: python-dateutil>=2.9.0.post0 in /opt/miniconda3/envs/MyDevEnvironment/lib/python3.13/site-packages (from google-adk==1.5.0->-r requirements.txt (line 2)) (2.9.0.post0)\n",
      "Requirement already satisfied: requests>=2.32.4 in /opt/miniconda3/envs/MyDevEnvironment/lib/python3.13/site-packages (from google-adk==1.5.0->-r requirements.txt (line 2)) (2.32.4)\n",
      "Requirement already satisfied: sqlalchemy>=2.0 in /opt/miniconda3/envs/MyDevEnvironment/lib/python3.13/site-packages (from google-adk==1.5.0->-r requirements.txt (line 2)) (2.0.43)\n",
      "Requirement already satisfied: starlette>=0.46.2 in /opt/miniconda3/envs/MyDevEnvironment/lib/python3.13/site-packages (from google-adk==1.5.0->-r requirements.txt (line 2)) (0.47.2)\n",
      "Requirement already satisfied: typing-extensions<5,>=4.5 in /opt/miniconda3/envs/MyDevEnvironment/lib/python3.13/site-packages (from google-adk==1.5.0->-r requirements.txt (line 2)) (4.14.1)\n",
      "Requirement already satisfied: tzlocal>=5.3 in /opt/miniconda3/envs/MyDevEnvironment/lib/python3.13/site-packages (from google-adk==1.5.0->-r requirements.txt (line 2)) (5.3.1)\n",
      "Requirement already satisfied: uvicorn>=0.34.0 in /opt/miniconda3/envs/MyDevEnvironment/lib/python3.13/site-packages (from google-adk==1.5.0->-r requirements.txt (line 2)) (0.35.0)\n",
      "Requirement already satisfied: websockets>=15.0.1 in /opt/miniconda3/envs/MyDevEnvironment/lib/python3.13/site-packages (from google-adk==1.5.0->-r requirements.txt (line 2)) (15.0.1)\n",
      "Requirement already satisfied: google-auth<3.0dev,>=2.26.1 in /opt/miniconda3/envs/MyDevEnvironment/lib/python3.13/site-packages (from google-cloud-storage<3.0.0,>=2.18.0->google-adk==1.5.0->-r requirements.txt (line 2)) (2.40.3)\n",
      "Requirement already satisfied: google-api-core<3.0.0dev,>=2.15.0 in /opt/miniconda3/envs/MyDevEnvironment/lib/python3.13/site-packages (from google-cloud-storage<3.0.0,>=2.18.0->google-adk==1.5.0->-r requirements.txt (line 2)) (2.25.1)\n",
      "Requirement already satisfied: google-cloud-core<3.0dev,>=2.3.0 in /opt/miniconda3/envs/MyDevEnvironment/lib/python3.13/site-packages (from google-cloud-storage<3.0.0,>=2.18.0->google-adk==1.5.0->-r requirements.txt (line 2)) (2.4.3)\n",
      "Requirement already satisfied: google-resumable-media>=2.7.2 in /opt/miniconda3/envs/MyDevEnvironment/lib/python3.13/site-packages (from google-cloud-storage<3.0.0,>=2.18.0->google-adk==1.5.0->-r requirements.txt (line 2)) (2.7.2)\n",
      "Requirement already satisfied: google-crc32c<2.0dev,>=1.0 in /opt/miniconda3/envs/MyDevEnvironment/lib/python3.13/site-packages (from google-cloud-storage<3.0.0,>=2.18.0->google-adk==1.5.0->-r requirements.txt (line 2)) (1.7.1)\n",
      "Requirement already satisfied: googleapis-common-protos<2.0.0,>=1.56.2 in /opt/miniconda3/envs/MyDevEnvironment/lib/python3.13/site-packages (from google-api-core<3.0.0dev,>=2.15.0->google-cloud-storage<3.0.0,>=2.18.0->google-adk==1.5.0->-r requirements.txt (line 2)) (1.70.0)\n",
      "Requirement already satisfied: protobuf!=3.20.0,!=3.20.1,!=4.21.0,!=4.21.1,!=4.21.2,!=4.21.3,!=4.21.4,!=4.21.5,<7.0.0,>=3.19.5 in /opt/miniconda3/envs/MyDevEnvironment/lib/python3.13/site-packages (from google-api-core<3.0.0dev,>=2.15.0->google-cloud-storage<3.0.0,>=2.18.0->google-adk==1.5.0->-r requirements.txt (line 2)) (6.32.0)\n",
      "Requirement already satisfied: proto-plus<2.0.0,>=1.22.3 in /opt/miniconda3/envs/MyDevEnvironment/lib/python3.13/site-packages (from google-api-core<3.0.0dev,>=2.15.0->google-cloud-storage<3.0.0,>=2.18.0->google-adk==1.5.0->-r requirements.txt (line 2)) (1.26.1)\n",
      "Requirement already satisfied: cachetools<6.0,>=2.0.0 in /opt/miniconda3/envs/MyDevEnvironment/lib/python3.13/site-packages (from google-auth<3.0dev,>=2.26.1->google-cloud-storage<3.0.0,>=2.18.0->google-adk==1.5.0->-r requirements.txt (line 2)) (5.5.2)\n",
      "Requirement already satisfied: pyasn1-modules>=0.2.1 in /opt/miniconda3/envs/MyDevEnvironment/lib/python3.13/site-packages (from google-auth<3.0dev,>=2.26.1->google-cloud-storage<3.0.0,>=2.18.0->google-adk==1.5.0->-r requirements.txt (line 2)) (0.4.2)\n",
      "Requirement already satisfied: rsa<5,>=3.1.4 in /opt/miniconda3/envs/MyDevEnvironment/lib/python3.13/site-packages (from google-auth<3.0dev,>=2.26.1->google-cloud-storage<3.0.0,>=2.18.0->google-adk==1.5.0->-r requirements.txt (line 2)) (4.9.1)\n",
      "Requirement already satisfied: MarkupSafe>=2.0 in /opt/miniconda3/envs/MyDevEnvironment/lib/python3.13/site-packages (from jinja2<4.0.0,>=3.1.2->litellm==1.73.6->-r requirements.txt (line 1)) (3.0.2)\n",
      "Requirement already satisfied: attrs>=22.2.0 in /opt/miniconda3/envs/MyDevEnvironment/lib/python3.13/site-packages (from jsonschema<5.0.0,>=4.22.0->litellm==1.73.6->-r requirements.txt (line 1)) (25.3.0)\n",
      "Requirement already satisfied: jsonschema-specifications>=2023.03.6 in /opt/miniconda3/envs/MyDevEnvironment/lib/python3.13/site-packages (from jsonschema<5.0.0,>=4.22.0->litellm==1.73.6->-r requirements.txt (line 1)) (2025.4.1)\n",
      "Requirement already satisfied: referencing>=0.28.4 in /opt/miniconda3/envs/MyDevEnvironment/lib/python3.13/site-packages (from jsonschema<5.0.0,>=4.22.0->litellm==1.73.6->-r requirements.txt (line 1)) (0.36.2)\n",
      "Requirement already satisfied: rpds-py>=0.7.1 in /opt/miniconda3/envs/MyDevEnvironment/lib/python3.13/site-packages (from jsonschema<5.0.0,>=4.22.0->litellm==1.73.6->-r requirements.txt (line 1)) (0.27.1)\n",
      "Requirement already satisfied: annotated-types>=0.6.0 in /opt/miniconda3/envs/MyDevEnvironment/lib/python3.13/site-packages (from pydantic<3.0.0,>=2.0.0->litellm==1.73.6->-r requirements.txt (line 1)) (0.7.0)\n",
      "Requirement already satisfied: pydantic-core==2.33.2 in /opt/miniconda3/envs/MyDevEnvironment/lib/python3.13/site-packages (from pydantic<3.0.0,>=2.0.0->litellm==1.73.6->-r requirements.txt (line 1)) (2.33.2)\n",
      "Requirement already satisfied: typing-inspection>=0.4.0 in /opt/miniconda3/envs/MyDevEnvironment/lib/python3.13/site-packages (from pydantic<3.0.0,>=2.0.0->litellm==1.73.6->-r requirements.txt (line 1)) (0.4.1)\n",
      "Requirement already satisfied: charset_normalizer<4,>=2 in /opt/miniconda3/envs/MyDevEnvironment/lib/python3.13/site-packages (from requests>=2.32.4->google-adk==1.5.0->-r requirements.txt (line 2)) (3.4.2)\n",
      "Requirement already satisfied: idna<4,>=2.5 in /opt/miniconda3/envs/MyDevEnvironment/lib/python3.13/site-packages (from requests>=2.32.4->google-adk==1.5.0->-r requirements.txt (line 2)) (3.10)\n",
      "Requirement already satisfied: urllib3<3,>=1.21.1 in /opt/miniconda3/envs/MyDevEnvironment/lib/python3.13/site-packages (from requests>=2.32.4->google-adk==1.5.0->-r requirements.txt (line 2)) (2.5.0)\n",
      "Requirement already satisfied: certifi>=2017.4.17 in /opt/miniconda3/envs/MyDevEnvironment/lib/python3.13/site-packages (from requests>=2.32.4->google-adk==1.5.0->-r requirements.txt (line 2)) (2025.7.14)\n",
      "Requirement already satisfied: pyasn1>=0.1.3 in /opt/miniconda3/envs/MyDevEnvironment/lib/python3.13/site-packages (from rsa<5,>=3.1.4->google-auth<3.0dev,>=2.26.1->google-cloud-storage<3.0.0,>=2.18.0->google-adk==1.5.0->-r requirements.txt (line 2)) (0.6.1)\n",
      "Requirement already satisfied: pytz in /opt/miniconda3/envs/MyDevEnvironment/lib/python3.13/site-packages (from neo4j->-r requirements.txt (line 3)) (2025.2)\n",
      "Requirement already satisfied: aiohappyeyeballs>=2.5.0 in /opt/miniconda3/envs/MyDevEnvironment/lib/python3.13/site-packages (from aiohttp>=3.10->litellm==1.73.6->-r requirements.txt (line 1)) (2.6.1)\n",
      "Requirement already satisfied: aiosignal>=1.4.0 in /opt/miniconda3/envs/MyDevEnvironment/lib/python3.13/site-packages (from aiohttp>=3.10->litellm==1.73.6->-r requirements.txt (line 1)) (1.4.0)\n",
      "Requirement already satisfied: frozenlist>=1.1.1 in /opt/miniconda3/envs/MyDevEnvironment/lib/python3.13/site-packages (from aiohttp>=3.10->litellm==1.73.6->-r requirements.txt (line 1)) (1.7.0)\n",
      "Requirement already satisfied: multidict<7.0,>=4.5 in /opt/miniconda3/envs/MyDevEnvironment/lib/python3.13/site-packages (from aiohttp>=3.10->litellm==1.73.6->-r requirements.txt (line 1)) (6.6.4)\n",
      "Requirement already satisfied: propcache>=0.2.0 in /opt/miniconda3/envs/MyDevEnvironment/lib/python3.13/site-packages (from aiohttp>=3.10->litellm==1.73.6->-r requirements.txt (line 1)) (0.3.2)\n",
      "Requirement already satisfied: yarl<2.0,>=1.17.0 in /opt/miniconda3/envs/MyDevEnvironment/lib/python3.13/site-packages (from aiohttp>=3.10->litellm==1.73.6->-r requirements.txt (line 1)) (1.20.1)\n",
      "Requirement already satisfied: sniffio>=1.1 in /opt/miniconda3/envs/MyDevEnvironment/lib/python3.13/site-packages (from anyio>=4.9.0->google-adk==1.5.0->-r requirements.txt (line 2)) (1.3.1)\n",
      "Requirement already satisfied: cryptography in /opt/miniconda3/envs/MyDevEnvironment/lib/python3.13/site-packages (from authlib>=1.5.1->google-adk==1.5.0->-r requirements.txt (line 2)) (45.0.6)\n",
      "Requirement already satisfied: httplib2<1.0.0,>=0.19.0 in /opt/miniconda3/envs/MyDevEnvironment/lib/python3.13/site-packages (from google-api-python-client>=2.157.0->google-adk==1.5.0->-r requirements.txt (line 2)) (0.30.0)\n",
      "Requirement already satisfied: google-auth-httplib2<1.0.0,>=0.2.0 in /opt/miniconda3/envs/MyDevEnvironment/lib/python3.13/site-packages (from google-api-python-client>=2.157.0->google-adk==1.5.0->-r requirements.txt (line 2)) (0.2.0)\n",
      "Requirement already satisfied: uritemplate<5,>=3.0.1 in /opt/miniconda3/envs/MyDevEnvironment/lib/python3.13/site-packages (from google-api-python-client>=2.157.0->google-adk==1.5.0->-r requirements.txt (line 2)) (4.2.0)\n",
      "Requirement already satisfied: pyparsing<4,>=3.0.4 in /opt/miniconda3/envs/MyDevEnvironment/lib/python3.13/site-packages (from httplib2<1.0.0,>=0.19.0->google-api-python-client>=2.157.0->google-adk==1.5.0->-r requirements.txt (line 2)) (3.2.3)\n",
      "Requirement already satisfied: packaging>=14.3 in /opt/miniconda3/envs/MyDevEnvironment/lib/python3.13/site-packages (from google-cloud-aiplatform>=1.95.1->google-cloud-aiplatform[agent-engines]>=1.95.1->google-adk==1.5.0->-r requirements.txt (line 2)) (25.0)\n",
      "Requirement already satisfied: google-cloud-bigquery!=3.20.0,<4.0.0,>=1.15.0 in /opt/miniconda3/envs/MyDevEnvironment/lib/python3.13/site-packages (from google-cloud-aiplatform>=1.95.1->google-cloud-aiplatform[agent-engines]>=1.95.1->google-adk==1.5.0->-r requirements.txt (line 2)) (3.36.0)\n",
      "Requirement already satisfied: google-cloud-resource-manager<3.0.0,>=1.3.3 in /opt/miniconda3/envs/MyDevEnvironment/lib/python3.13/site-packages (from google-cloud-aiplatform>=1.95.1->google-cloud-aiplatform[agent-engines]>=1.95.1->google-adk==1.5.0->-r requirements.txt (line 2)) (1.14.2)\n",
      "Requirement already satisfied: shapely<3.0.0 in /opt/miniconda3/envs/MyDevEnvironment/lib/python3.13/site-packages (from google-cloud-aiplatform>=1.95.1->google-cloud-aiplatform[agent-engines]>=1.95.1->google-adk==1.5.0->-r requirements.txt (line 2)) (2.1.1)\n",
      "Requirement already satisfied: docstring_parser<1 in /opt/miniconda3/envs/MyDevEnvironment/lib/python3.13/site-packages (from google-cloud-aiplatform>=1.95.1->google-cloud-aiplatform[agent-engines]>=1.95.1->google-adk==1.5.0->-r requirements.txt (line 2)) (0.17.0)\n",
      "Requirement already satisfied: grpcio<2.0.0,>=1.33.2 in /opt/miniconda3/envs/MyDevEnvironment/lib/python3.13/site-packages (from google-api-core[grpc]!=2.0.*,!=2.1.*,!=2.2.*,!=2.3.*,!=2.4.*,!=2.5.*,!=2.6.*,!=2.7.*,<3.0.0,>=1.34.1->google-cloud-aiplatform>=1.95.1->google-cloud-aiplatform[agent-engines]>=1.95.1->google-adk==1.5.0->-r requirements.txt (line 2)) (1.74.0)\n",
      "Requirement already satisfied: grpcio-status<2.0.0,>=1.33.2 in /opt/miniconda3/envs/MyDevEnvironment/lib/python3.13/site-packages (from google-api-core[grpc]!=2.0.*,!=2.1.*,!=2.2.*,!=2.3.*,!=2.4.*,!=2.5.*,!=2.6.*,!=2.7.*,<3.0.0,>=1.34.1->google-cloud-aiplatform>=1.95.1->google-cloud-aiplatform[agent-engines]>=1.95.1->google-adk==1.5.0->-r requirements.txt (line 2)) (1.74.0)\n",
      "Requirement already satisfied: grpc-google-iam-v1<1.0.0,>=0.14.0 in /opt/miniconda3/envs/MyDevEnvironment/lib/python3.13/site-packages (from google-cloud-resource-manager<3.0.0,>=1.3.3->google-cloud-aiplatform>=1.95.1->google-cloud-aiplatform[agent-engines]>=1.95.1->google-adk==1.5.0->-r requirements.txt (line 2)) (0.14.2)\n",
      "Requirement already satisfied: tenacity<9.2.0,>=8.2.3 in /opt/miniconda3/envs/MyDevEnvironment/lib/python3.13/site-packages (from google-genai>=1.21.1->google-adk==1.5.0->-r requirements.txt (line 2)) (9.1.2)\n",
      "Requirement already satisfied: httpcore==1.* in /opt/miniconda3/envs/MyDevEnvironment/lib/python3.13/site-packages (from httpx>=0.23.0->litellm==1.73.6->-r requirements.txt (line 1)) (1.0.9)\n",
      "Requirement already satisfied: h11>=0.16 in /opt/miniconda3/envs/MyDevEnvironment/lib/python3.13/site-packages (from httpcore==1.*->httpx>=0.23.0->litellm==1.73.6->-r requirements.txt (line 1)) (0.16.0)\n",
      "Requirement already satisfied: six>=1.5 in /opt/miniconda3/envs/MyDevEnvironment/lib/python3.13/site-packages (from python-dateutil>=2.9.0.post0->google-adk==1.5.0->-r requirements.txt (line 2)) (1.17.0)\n",
      "Requirement already satisfied: numpy>=1.21 in /opt/miniconda3/envs/MyDevEnvironment/lib/python3.13/site-packages (from shapely<3.0.0->google-cloud-aiplatform>=1.95.1->google-cloud-aiplatform[agent-engines]>=1.95.1->google-adk==1.5.0->-r requirements.txt (line 2)) (2.3.2)\n",
      "Requirement already satisfied: cloudpickle<4.0,>=3.0 in /opt/miniconda3/envs/MyDevEnvironment/lib/python3.13/site-packages (from google-cloud-aiplatform[agent-engines]>=1.95.1->google-adk==1.5.0->-r requirements.txt (line 2)) (3.1.1)\n",
      "Requirement already satisfied: google-cloud-trace<2 in /opt/miniconda3/envs/MyDevEnvironment/lib/python3.13/site-packages (from google-cloud-aiplatform[agent-engines]>=1.95.1->google-adk==1.5.0->-r requirements.txt (line 2)) (1.16.2)\n",
      "Requirement already satisfied: google-cloud-logging<4 in /opt/miniconda3/envs/MyDevEnvironment/lib/python3.13/site-packages (from google-cloud-aiplatform[agent-engines]>=1.95.1->google-adk==1.5.0->-r requirements.txt (line 2)) (3.12.1)\n",
      "Requirement already satisfied: google-cloud-appengine-logging<2.0.0,>=0.1.3 in /opt/miniconda3/envs/MyDevEnvironment/lib/python3.13/site-packages (from google-cloud-logging<4->google-cloud-aiplatform[agent-engines]>=1.95.1->google-adk==1.5.0->-r requirements.txt (line 2)) (1.6.2)\n",
      "Requirement already satisfied: google-cloud-audit-log<1.0.0,>=0.3.1 in /opt/miniconda3/envs/MyDevEnvironment/lib/python3.13/site-packages (from google-cloud-logging<4->google-cloud-aiplatform[agent-engines]>=1.95.1->google-adk==1.5.0->-r requirements.txt (line 2)) (0.3.2)\n",
      "Requirement already satisfied: opentelemetry-resourcedetector-gcp==1.*,>=1.5.0dev0 in /opt/miniconda3/envs/MyDevEnvironment/lib/python3.13/site-packages (from opentelemetry-exporter-gcp-trace>=1.9.0->google-adk==1.5.0->-r requirements.txt (line 2)) (1.9.0a0)\n",
      "Requirement already satisfied: zipp>=3.20 in /opt/miniconda3/envs/MyDevEnvironment/lib/python3.13/site-packages (from importlib-metadata>=6.8.0->litellm==1.73.6->-r requirements.txt (line 1)) (3.23.0)\n",
      "Requirement already satisfied: opentelemetry-semantic-conventions==0.57b0 in /opt/miniconda3/envs/MyDevEnvironment/lib/python3.13/site-packages (from opentelemetry-sdk>=1.31.0->google-adk==1.5.0->-r requirements.txt (line 2)) (0.57b0)\n",
      "Requirement already satisfied: httpx-sse>=0.4 in /opt/miniconda3/envs/MyDevEnvironment/lib/python3.13/site-packages (from mcp>=1.8.0->google-adk==1.5.0->-r requirements.txt (line 2)) (0.4.0)\n",
      "Requirement already satisfied: pydantic-settings>=2.5.2 in /opt/miniconda3/envs/MyDevEnvironment/lib/python3.13/site-packages (from mcp>=1.8.0->google-adk==1.5.0->-r requirements.txt (line 2)) (2.10.1)\n",
      "Requirement already satisfied: python-multipart>=0.0.9 in /opt/miniconda3/envs/MyDevEnvironment/lib/python3.13/site-packages (from mcp>=1.8.0->google-adk==1.5.0->-r requirements.txt (line 2)) (0.0.20)\n",
      "Requirement already satisfied: sse-starlette>=1.6.1 in /opt/miniconda3/envs/MyDevEnvironment/lib/python3.13/site-packages (from mcp>=1.8.0->google-adk==1.5.0->-r requirements.txt (line 2)) (3.0.2)\n",
      "Requirement already satisfied: distro<2,>=1.7.0 in /opt/miniconda3/envs/MyDevEnvironment/lib/python3.13/site-packages (from openai>=1.68.2->litellm==1.73.6->-r requirements.txt (line 1)) (1.9.0)\n",
      "Requirement already satisfied: jiter<1,>=0.4.0 in /opt/miniconda3/envs/MyDevEnvironment/lib/python3.13/site-packages (from openai>=1.68.2->litellm==1.73.6->-r requirements.txt (line 1)) (0.10.0)\n",
      "Requirement already satisfied: tqdm>4 in /opt/miniconda3/envs/MyDevEnvironment/lib/python3.13/site-packages (from openai>=1.68.2->litellm==1.73.6->-r requirements.txt (line 1)) (4.67.1)\n",
      "Requirement already satisfied: regex>=2022.1.18 in /opt/miniconda3/envs/MyDevEnvironment/lib/python3.13/site-packages (from tiktoken>=0.7.0->litellm==1.73.6->-r requirements.txt (line 1)) (2025.7.34)\n",
      "Requirement already satisfied: cffi>=1.14 in /opt/miniconda3/envs/MyDevEnvironment/lib/python3.13/site-packages (from cryptography->authlib>=1.5.1->google-adk==1.5.0->-r requirements.txt (line 2)) (1.17.1)\n",
      "Requirement already satisfied: pycparser in /opt/miniconda3/envs/MyDevEnvironment/lib/python3.13/site-packages (from cffi>=1.14->cryptography->authlib>=1.5.1->google-adk==1.5.0->-r requirements.txt (line 2)) (2.22)\n",
      "Requirement already satisfied: huggingface-hub<1.0,>=0.16.4 in /opt/miniconda3/envs/MyDevEnvironment/lib/python3.13/site-packages (from tokenizers->litellm==1.73.6->-r requirements.txt (line 1)) (0.34.4)\n",
      "Requirement already satisfied: filelock in /opt/miniconda3/envs/MyDevEnvironment/lib/python3.13/site-packages (from huggingface-hub<1.0,>=0.16.4->tokenizers->litellm==1.73.6->-r requirements.txt (line 1)) (3.19.1)\n",
      "Requirement already satisfied: fsspec>=2023.5.0 in /opt/miniconda3/envs/MyDevEnvironment/lib/python3.13/site-packages (from huggingface-hub<1.0,>=0.16.4->tokenizers->litellm==1.73.6->-r requirements.txt (line 1)) (2025.7.0)\n",
      "Requirement already satisfied: hf-xet<2.0.0,>=1.1.3 in /opt/miniconda3/envs/MyDevEnvironment/lib/python3.13/site-packages (from huggingface-hub<1.0,>=0.16.4->tokenizers->litellm==1.73.6->-r requirements.txt (line 1)) (1.1.8)\n"
     ]
    }
   ],
   "source": [
    "!pip install -r requirements.txt"
   ]
  },
  {
   "cell_type": "code",
   "execution_count": 1,
   "id": "11f6e087",
   "metadata": {},
   "outputs": [
    {
     "name": "stdout",
     "output_type": "stream",
     "text": [
      "Libraries imported.\n"
     ]
    }
   ],
   "source": [
    "# Import necessary libraries\n",
    "import os\n",
    "from google.adk.agents import Agent\n",
    "from google.adk.models.lite_llm import LiteLlm # For OpenAI support. We can use any LLM with help of LiteLlm\n",
    "from google.adk.sessions import InMemorySessionService\n",
    "from google.adk.runners import Runner\n",
    "from google.genai import types # For creating message Content/Parts\n",
    "from typing import Optional, Dict, Any\n",
    "\n",
    "import warnings\n",
    "warnings.filterwarnings(\"ignore\")\n",
    "\n",
    "import logging\n",
    "logging.basicConfig(level=logging.CRITICAL)\n",
    "\n",
    "print(\"Libraries imported.\")"
   ]
  },
  {
   "cell_type": "code",
   "execution_count": 2,
   "id": "10016036",
   "metadata": {},
   "outputs": [
    {
     "name": "stdout",
     "output_type": "stream",
     "text": [
      "ModelResponse(id='chatcmpl-CACYruYd6h41NtoUvscSjZMFuDDqE', created=1756547601, model='gpt-4o-2024-08-06', object='chat.completion', system_fingerprint='fp_80956533cb', choices=[Choices(finish_reason='stop', index=0, message=Message(content=\"Yes, I'm ready. How can I assist you today?\", role='assistant', tool_calls=None, function_call=None, provider_specific_fields={'refusal': None}, annotations=[]), provider_specific_fields={})], usage=Usage(completion_tokens=13, prompt_tokens=27, total_tokens=40, completion_tokens_details=CompletionTokensDetailsWrapper(accepted_prediction_tokens=0, audio_tokens=0, reasoning_tokens=0, rejected_prediction_tokens=0, text_tokens=None), prompt_tokens_details=PromptTokensDetailsWrapper(audio_tokens=0, cached_tokens=0, text_tokens=None, image_tokens=None)), service_tier='default')\n",
      "\n",
      " OpenAI is ready\n"
     ]
    }
   ],
   "source": [
    "MODEL_GPT = \"openai/gpt-4o\"\n",
    "\n",
    "llm = LiteLlm(model=MODEL_GPT)\n",
    "\n",
    "# Test LLM with a direct call\n",
    "print(llm.llm_client.completion(model=llm.model, \n",
    "                                messages=[{\"role\": \"user\", \n",
    "                                           \"content\": \"Are you ready?\"}], \n",
    "                                tools=[]))\n",
    "\n",
    "\n",
    "print(\"\\n OpenAI is ready\")"
   ]
  },
  {
   "cell_type": "code",
   "execution_count": 3,
   "id": "5bd8ab1c",
   "metadata": {},
   "outputs": [],
   "source": [
    "# Define a basic tool -- send a parameterized cypher query\n",
    "def say_hello(person_name: str) -> dict:\n",
    "    \"\"\"Formats a welcome message to a named person. \n",
    "\n",
    "    Args:\n",
    "        person_name (str): the name of the person saying hello\n",
    "\n",
    "    Returns:\n",
    "        dict: A dictionary containing the results of the query.\n",
    "              Includes a 'status' key ('success' or 'error').\n",
    "              If 'success', includes a 'query_result' key with an array of result rows.\n",
    "              If 'error', includes an 'error_message' key.\n",
    "    \"\"\"\n",
    "    return graphdb.send_query(\"RETURN 'Hello to you, ' + $person_name AS reply\",\n",
    "    {\n",
    "        \"person_name\": person_name\n",
    "    })\n"
   ]
  },
  {
   "cell_type": "code",
   "execution_count": 4,
   "id": "f5cb24e2",
   "metadata": {},
   "outputs": [
    {
     "name": "stdout",
     "output_type": "stream",
     "text": [
      "Agent 'hello_agent_v1' created.\n"
     ]
    }
   ],
   "source": [
    "#Define Cypher Agent\n",
    "\n",
    "hello_agent = Agent(\n",
    "    name=\"hello_agent_v1\",\n",
    "    model=llm, # defined earlier in a variable\n",
    "    description=\"Has friendly chats with a user.\",\n",
    "    instruction=\"\"\"You are a helpful assistant, chatting with a user. \n",
    "                Be polite and friendly, introducing yourself and asking who the user is. \n",
    "\n",
    "                If the user provides their name, use the 'say_hello' tool to get a custom greeting.\n",
    "                If the tool returns an error, inform the user politely. \n",
    "                If the tool is successful, present the reply.\n",
    "                \"\"\",\n",
    "    tools=[say_hello], # Pass the function directly\n",
    ")\n",
    "\n",
    "print(f\"Agent '{hello_agent.name}' created.\")"
   ]
  },
  {
   "cell_type": "markdown",
   "id": "94d3e893",
   "metadata": {},
   "source": [
    "###Run The Agent\n",
    "\n",
    "- To run the agent we will need some additional components namely an execution environment and memory"
   ]
  },
  {
   "cell_type": "code",
   "execution_count": null,
   "id": "6c9f1eb3",
   "metadata": {},
   "outputs": [],
   "source": []
  },
  {
   "cell_type": "code",
   "execution_count": null,
   "id": "803fdd0a",
   "metadata": {},
   "outputs": [],
   "source": []
  },
  {
   "cell_type": "code",
   "execution_count": null,
   "id": "7a16bbd4",
   "metadata": {},
   "outputs": [],
   "source": []
  },
  {
   "cell_type": "code",
   "execution_count": null,
   "id": "afc3306e",
   "metadata": {},
   "outputs": [],
   "source": []
  },
  {
   "cell_type": "code",
   "execution_count": null,
   "id": "c99fd464",
   "metadata": {},
   "outputs": [],
   "source": []
  },
  {
   "cell_type": "code",
   "execution_count": null,
   "id": "37b6a043",
   "metadata": {},
   "outputs": [],
   "source": []
  },
  {
   "cell_type": "code",
   "execution_count": null,
   "id": "45d47d81",
   "metadata": {},
   "outputs": [],
   "source": []
  }
 ],
 "metadata": {
  "kernelspec": {
   "display_name": "MyDevEnvironment",
   "language": "python",
   "name": "python3"
  },
  "language_info": {
   "codemirror_mode": {
    "name": "ipython",
    "version": 3
   },
   "file_extension": ".py",
   "mimetype": "text/x-python",
   "name": "python",
   "nbconvert_exporter": "python",
   "pygments_lexer": "ipython3",
   "version": "3.13.5"
  }
 },
 "nbformat": 4,
 "nbformat_minor": 5
}
